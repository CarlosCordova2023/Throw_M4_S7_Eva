{
  "nbformat": 4,
  "nbformat_minor": 0,
  "metadata": {
    "colab": {
      "provenance": [],
      "authorship_tag": "ABX9TyMKCj7QVxRvN0vRd3XfwG9a",
      "include_colab_link": true
    },
    "kernelspec": {
      "name": "python3",
      "display_name": "Python 3"
    },
    "language_info": {
      "name": "python"
    }
  },
  "cells": [
    {
      "cell_type": "markdown",
      "metadata": {
        "id": "view-in-github",
        "colab_type": "text"
      },
      "source": [
        "<a href=\"https://colab.research.google.com/github/CarlosCordova2023/Throw_M4_S7_Eva/blob/main/ThrowEva.ipynb\" target=\"_parent\"><img src=\"https://colab.research.google.com/assets/colab-badge.svg\" alt=\"Open In Colab\"/></a>"
      ]
    },
    {
      "cell_type": "code",
      "execution_count": 2,
      "metadata": {
        "colab": {
          "base_uri": "https://localhost:8080/"
        },
        "id": "NbfqxIoUfc7m",
        "outputId": "9a6f213f-77db-4bc1-8d9b-e4614f056d40"
      },
      "outputs": [
        {
          "output_type": "stream",
          "name": "stdout",
          "text": [
            "Ingrese el salario: oo\n",
            "Entrada inválida. Por favor, ingrese un número entero.\n",
            "Ingrese el salario: 9.555\n",
            "Entrada inválida. Por favor, ingrese un número entero.\n",
            "Ingrese el salario: 2500\n",
            "2500 -> Salario no está definido en el rango (1000 a 2000)\n",
            "Ingrese el salario: 1250\n",
            "Salario ingresado: 1250\n"
          ]
        }
      ],
      "source": [
        "class RangoSalarioError(Exception):\n",
        "    def __init__(self, salario, mensaje=\"Salario no está definido en el rango (1000 a 2000)\"):\n",
        "        self.salario = salario\n",
        "        self.mensaje = mensaje\n",
        "        super().__init__(f\"{salario} -> {mensaje}\")\n",
        "\n",
        "def pedir_salario():\n",
        "    while True:\n",
        "        try:\n",
        "            salario = int(input(\"Ingrese el salario: \"))\n",
        "            if salario < 1000 or salario > 2000:\n",
        "                raise RangoSalarioError(salario)\n",
        "            return salario\n",
        "        except ValueError:\n",
        "            print(\"Entrada inválida. Por favor, ingrese un número entero.\")\n",
        "        except RangoSalarioError as e:\n",
        "            print(e)\n",
        "\n",
        "def main():\n",
        "    salario = pedir_salario()\n",
        "    print(f\"Salario ingresado: {salario}\")\n",
        "\n",
        "if __name__ == \"__main__\":\n",
        "    main()\n"
      ]
    }
  ]
}